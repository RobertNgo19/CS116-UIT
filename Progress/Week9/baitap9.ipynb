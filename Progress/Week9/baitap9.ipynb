{
  "nbformat": 4,
  "nbformat_minor": 0,
  "metadata": {
    "colab": {
      "provenance": []
    },
    "kernelspec": {
      "name": "python3",
      "display_name": "Python 3"
    },
    "accelerator": "GPU"
  },
  "cells": [
    {
      "cell_type": "code",
      "metadata": {
        "id": "mQ4AkwUDHajp"
      },
      "source": [
        "from keras.layers import Input, Dense, Conv2D, MaxPooling2D, Flatten\n",
        "from keras.models import load_model, Model\n",
        "import tensorflow as tf\n",
        "import keras\n",
        "\n",
        "class LeNetCNN:\n",
        "  # constructor\n",
        "  def __init__(self):\n",
        "    self.model = None\n",
        "\n",
        "  # Define structure of the CNN\n",
        "  def build(self, input_dim):\n",
        "    input = Input(shape = input_dim) # X dau vao cua minh\n",
        "    C1 = Conv2D(6, (3, 3), padding='same', activation='relu')(input)\n",
        "    S2 = (C1)\n",
        "    C3 = Conv2D(16, (3, 3), padding='same', activation='relu')(S2)\n",
        "    S4 = (C3)\n",
        "\n",
        "    flat = Flatten()(S4)\n",
        "    # These like ANN\n",
        "    F5 = Dense(120, activation='relu', use_bias=True)(flat)\n",
        "    F6 = Dense(84, activation='relu', use_bias=True)(F5)\n",
        "    output = Dense(10, activation='softmax', use_bias=True)(F6) # y~ output\n",
        "    self.model = Model(input, output)\n",
        "  \n",
        "  # Train the model\n",
        "  def train(self, x_train, y_train, x_val, y_val): # x_train chinh la X, y_train chinh la ground-truth\n",
        "    sgd = keras.optimizers.SGD(learning_rate=0.01)\n",
        "    adam = keras.optimizers.Adam(learning_rate=0.01)\n",
        "    self.model.compile(optimizer=sgd, loss = 'categorical_crossentropy', metrics=['accuracy'])\n",
        "    self.model.fit(x_train, y_train, validation_data = (x_val, y_val), epochs = 50, batch_size = 128)\n",
        "  \n",
        "  # Load model from file\n",
        "  def load(self, model_file):\n",
        "    self.model = load_model(model_file)\n",
        "  \n",
        "  # save the trained model\n",
        "  def save(self, model_file):\n",
        "    self.model.save(model_file)\n",
        "  \n",
        "  # Show the architecture of the model\n",
        "  def summary(self):\n",
        "    self.model.summary()\n",
        "\n",
        "  # Test the model with a given input\n",
        "  def predict(self, x_test):\n",
        "    return self.model.predict(x_test)\n",
        "\n"
      ],
      "execution_count": null,
      "outputs": []
    },
    {
      "cell_type": "code",
      "metadata": {
        "id": "U8lfBN3Y4U3G"
      },
      "source": [
        "from keras.layers import Input, Dense, Conv2D, MaxPooling2D, Flatten, Add, AveragePooling2D\n",
        "from keras.models import load_model, Model\n",
        "#from keras.objectives import categorical_crossentropy\n",
        "\n",
        "class DeltaCNN:\n",
        "  # constructor\n",
        "  def __init__(self):\n",
        "    self.model = None\n",
        "\n",
        "  # Define structure of the CNN\n",
        "  def build(self, input_dim):\n",
        "    input = Input(shape = input_dim) # X dau vao cua minh\n",
        "    \n",
        "    C1 = Conv2D(8, (3, 3), padding='same', activation='relu')(input)\n",
        "    S2 = (C1)\n",
        "\n",
        "    C3 = Conv2D(8, (3, 3), padding='same', activation='relu')(S2)\n",
        "    C4 = Conv2D(8, (3, 3), padding='same', activation='relu')(C3)\n",
        "    C5 = Add()([C4, S2])\n",
        "\n",
        "    C6 = Conv2D(16, (3, 3), strides = (2,2), padding='same', activation='relu')(C5)\n",
        "    C7 = Conv2D(16, (3, 3), padding='same', activation='relu')(C6)\n",
        "    C8 = Conv2D(16, (3, 3), padding='same', activation='relu')(C7)\n",
        "    C9 = Add()([C8, C6])\n",
        "\n",
        "    P10 = (C9)\n",
        "    flat = Flatten()(P10)\n",
        "    F0 = Dense(400, use_bias=True)(flat)\n",
        "    output = Dense(10, activation='softmax', use_bias=True)(F0)\n",
        "\n",
        "    self.model = Model(input, output)\n",
        "    self.model.compile(optimizer=\"adam\", loss = 'categorical_crossentropy', metrics=['accuracy'])\n",
        "  \n",
        "  # Train the model\n",
        "  def train(self, x_train, y_train, x_val, y_val): # x_train chinh la X, y_train chinh la ground-truthewedsdAQ  a QA\n",
        "    self.model.fit(x_train, y_train, validation_data = (x_val, y_val), epochs = 50, batch_size = 128)\n",
        "  \n",
        "  # Load model from file\n",
        "  def load(self, model_file):\n",
        "    self.model = load_model(model_file)\n",
        "  \n",
        "  # save the trained model\n",
        "  def save(self, model_file):\n",
        "    self.model.save(model_file)\n",
        "  \n",
        "  # Show the architecture of the model\n",
        "  def summary(self):\n",
        "    self.model.summary()\n",
        "\n",
        "  # Test the model with a given input\n",
        "  def predict(self, x_test):\n",
        "    return self.model.predict(x_test)"
      ],
      "execution_count": null,
      "outputs": []
    },
    {
      "cell_type": "code",
      "metadata": {
        "id": "QOwcpLbYHno7",
        "colab": {
          "base_uri": "https://localhost:8080/"
        },
        "outputId": "91b0722e-2211-45d9-8acf-7aa970620c08"
      },
      "source": [
        "from keras.datasets import mnist\n",
        "\n",
        "(x_train, y_train), (x_test, y_test) = mnist.load_data()\n",
        "\n",
        "print(x_train.shape)\n",
        "print(y_train.shape)\n",
        "print(x_test.shape)\n",
        "print(y_test.shape)\n"
      ],
      "execution_count": null,
      "outputs": [
        {
          "output_type": "stream",
          "name": "stdout",
          "text": [
            "(60000, 28, 28)\n",
            "(60000,)\n",
            "(10000, 28, 28)\n",
            "(10000,)\n"
          ]
        }
      ]
    },
    {
      "cell_type": "code",
      "source": [
        "from collections import Counter"
      ],
      "metadata": {
        "id": "KdvXyUKQqzSA"
      },
      "execution_count": null,
      "outputs": []
    },
    {
      "cell_type": "code",
      "source": [
        "counter = Counter(y_train).most_common(3)"
      ],
      "metadata": {
        "id": "xy9p35J9q5zj"
      },
      "execution_count": null,
      "outputs": []
    },
    {
      "cell_type": "code",
      "source": [
        "counter"
      ],
      "metadata": {
        "colab": {
          "base_uri": "https://localhost:8080/"
        },
        "id": "PttSwCSOs8Fr",
        "outputId": "eb9f3de0-2a5a-4a46-9ead-2b9bd0455f77"
      },
      "execution_count": null,
      "outputs": [
        {
          "output_type": "execute_result",
          "data": {
            "text/plain": [
              "[(1, 6742), (7, 6265), (3, 6131)]"
            ]
          },
          "metadata": {},
          "execution_count": 61
        }
      ]
    },
    {
      "cell_type": "code",
      "metadata": {
        "id": "hjbM2ZrWON53"
      },
      "source": [
        "import numpy as np\n",
        "\n",
        "def onehot(y):\n",
        "  oh = np.zeros((y.shape[0], 10))\n",
        "  for i in range(y.shape[0]):\n",
        "    oh[i, int(y[i])]=1\n",
        "  return oh"
      ],
      "execution_count": null,
      "outputs": []
    },
    {
      "cell_type": "code",
      "metadata": {
        "id": "XSRZ6AMNWWQg"
      },
      "source": [
        "import numpy as np\n",
        "def norm_zero_one(x_train):\n",
        "  min_val = np.min(x_train)\n",
        "  max_val = np.max(x_train)\n",
        "  x_train_norm = (x_train-min_val)/(max_val-min_val)\n",
        "  return x_train_norm\n",
        "\n",
        "def norm_normal_dist(x_train):\n",
        "  mean_val = np.mean(x_train)\n",
        "  std_val = np.std(x_train)\n",
        "  x_train_norm = (x_train-mean_val)/std_val\n",
        "  return x_train_norm"
      ],
      "execution_count": null,
      "outputs": []
    },
    {
      "cell_type": "code",
      "metadata": {
        "id": "-HXJByzMMyWq"
      },
      "source": [
        "from sklearn import preprocessing\n",
        "import numpy as np\n",
        "\n",
        "#enc = preprocessing.OneHotEncoder()\n",
        "\n",
        "#enc.fit(y_train)\n",
        "\n",
        "#y_train_oh = enc.transform(y_train).toarray()\n",
        "#y_train_oh.shape\n",
        "y_train_oh = onehot(y_train)\n",
        "y_train_oh.shape\n",
        "\n",
        "y_test_oh = onehot(y_test)\n",
        "y_test_oh.shape\n",
        "\n",
        "x_train_norm = x_train / 255.0\n",
        "x_test_norm = x_test / 255.0\n",
        "\n",
        "#x_train_norm = x_train_norm[:,:,:, np.newaxis] # Optional: Convert 60000x28x28 -> 60000x28x28x1\n",
        "#x_test_norm = x_test_norm[:,:,:, np.newaxis] # Optional: Convert 60000x28x28 -> 60000x28x28x1"
      ],
      "execution_count": null,
      "outputs": []
    },
    {
      "cell_type": "code",
      "metadata": {
        "colab": {
          "base_uri": "https://localhost:8080/"
        },
        "id": "vjd-0_h89KFL",
        "outputId": "dfb3ebba-114c-4364-d484-efb5817c4fb8"
      },
      "source": [
        "x_train_norm.shape"
      ],
      "execution_count": null,
      "outputs": [
        {
          "output_type": "execute_result",
          "data": {
            "text/plain": [
              "(60000, 28, 28)"
            ]
          },
          "metadata": {},
          "execution_count": 65
        }
      ]
    },
    {
      "cell_type": "code",
      "metadata": {
        "id": "J8JX9Eeauvmi",
        "colab": {
          "base_uri": "https://localhost:8080/"
        },
        "outputId": "09bd2bb8-85dd-40c4-b625-3f445f1097b8"
      },
      "source": [
        "cnn = DeltaCNN()\n",
        "cnn.build((28, 28, 1))\n",
        "cnn.summary()\n",
        "cnn.train(x_train_norm, y_train_oh, x_test_norm, y_test_oh)"
      ],
      "execution_count": null,
      "outputs": [
        {
          "output_type": "stream",
          "name": "stdout",
          "text": [
            "Model: \"model_4\"\n",
            "__________________________________________________________________________________________________\n",
            " Layer (type)                   Output Shape         Param #     Connected to                     \n",
            "==================================================================================================\n",
            " input_5 (InputLayer)           [(None, 28, 28, 1)]  0           []                               \n",
            "                                                                                                  \n",
            " conv2d_12 (Conv2D)             (None, 28, 28, 8)    80          ['input_5[0][0]']                \n",
            "                                                                                                  \n",
            " conv2d_13 (Conv2D)             (None, 28, 28, 8)    584         ['conv2d_12[0][0]']              \n",
            "                                                                                                  \n",
            " conv2d_14 (Conv2D)             (None, 28, 28, 8)    584         ['conv2d_13[0][0]']              \n",
            "                                                                                                  \n",
            " add_8 (Add)                    (None, 28, 28, 8)    0           ['conv2d_14[0][0]',              \n",
            "                                                                  'conv2d_12[0][0]']              \n",
            "                                                                                                  \n",
            " conv2d_15 (Conv2D)             (None, 14, 14, 16)   1168        ['add_8[0][0]']                  \n",
            "                                                                                                  \n",
            " conv2d_16 (Conv2D)             (None, 14, 14, 16)   2320        ['conv2d_15[0][0]']              \n",
            "                                                                                                  \n",
            " conv2d_17 (Conv2D)             (None, 14, 14, 16)   2320        ['conv2d_16[0][0]']              \n",
            "                                                                                                  \n",
            " add_9 (Add)                    (None, 14, 14, 16)   0           ['conv2d_17[0][0]',              \n",
            "                                                                  'conv2d_15[0][0]']              \n",
            "                                                                                                  \n",
            " flatten_4 (Flatten)            (None, 3136)         0           ['add_9[0][0]']                  \n",
            "                                                                                                  \n",
            " dense_8 (Dense)                (None, 400)          1254800     ['flatten_4[0][0]']              \n",
            "                                                                                                  \n",
            " dense_9 (Dense)                (None, 10)           4010        ['dense_8[0][0]']                \n",
            "                                                                                                  \n",
            "==================================================================================================\n",
            "Total params: 1,265,866\n",
            "Trainable params: 1,265,866\n",
            "Non-trainable params: 0\n",
            "__________________________________________________________________________________________________\n",
            "Epoch 1/50\n",
            "469/469 [==============================] - 4s 7ms/step - loss: 0.1746 - accuracy: 0.9468 - val_loss: 0.0742 - val_accuracy: 0.9759\n",
            "Epoch 2/50\n",
            "469/469 [==============================] - 3s 7ms/step - loss: 0.0591 - accuracy: 0.9815 - val_loss: 0.0497 - val_accuracy: 0.9848\n",
            "Epoch 3/50\n",
            "469/469 [==============================] - 3s 6ms/step - loss: 0.0431 - accuracy: 0.9868 - val_loss: 0.0414 - val_accuracy: 0.9862\n",
            "Epoch 4/50\n",
            "469/469 [==============================] - 3s 7ms/step - loss: 0.0334 - accuracy: 0.9891 - val_loss: 0.0479 - val_accuracy: 0.9843\n",
            "Epoch 5/50\n",
            "469/469 [==============================] - 3s 7ms/step - loss: 0.0287 - accuracy: 0.9907 - val_loss: 0.0385 - val_accuracy: 0.9873\n",
            "Epoch 6/50\n",
            "469/469 [==============================] - 3s 6ms/step - loss: 0.0252 - accuracy: 0.9917 - val_loss: 0.0358 - val_accuracy: 0.9881\n",
            "Epoch 7/50\n",
            "469/469 [==============================] - 3s 7ms/step - loss: 0.0194 - accuracy: 0.9935 - val_loss: 0.0441 - val_accuracy: 0.9881\n",
            "Epoch 8/50\n",
            "469/469 [==============================] - 3s 6ms/step - loss: 0.0160 - accuracy: 0.9947 - val_loss: 0.0416 - val_accuracy: 0.9889\n",
            "Epoch 9/50\n",
            "469/469 [==============================] - 3s 7ms/step - loss: 0.0170 - accuracy: 0.9940 - val_loss: 0.0531 - val_accuracy: 0.9868\n",
            "Epoch 10/50\n",
            "469/469 [==============================] - 3s 6ms/step - loss: 0.0138 - accuracy: 0.9954 - val_loss: 0.0466 - val_accuracy: 0.9873\n",
            "Epoch 11/50\n",
            "469/469 [==============================] - 3s 7ms/step - loss: 0.0115 - accuracy: 0.9962 - val_loss: 0.0513 - val_accuracy: 0.9867\n",
            "Epoch 12/50\n",
            "469/469 [==============================] - 3s 7ms/step - loss: 0.0128 - accuracy: 0.9958 - val_loss: 0.0641 - val_accuracy: 0.9857\n",
            "Epoch 13/50\n",
            "469/469 [==============================] - 3s 7ms/step - loss: 0.0122 - accuracy: 0.9958 - val_loss: 0.0551 - val_accuracy: 0.9871\n",
            "Epoch 14/50\n",
            "469/469 [==============================] - 3s 7ms/step - loss: 0.0078 - accuracy: 0.9973 - val_loss: 0.0516 - val_accuracy: 0.9873\n",
            "Epoch 15/50\n",
            "469/469 [==============================] - 3s 7ms/step - loss: 0.0099 - accuracy: 0.9967 - val_loss: 0.0752 - val_accuracy: 0.9833\n",
            "Epoch 16/50\n",
            "469/469 [==============================] - 3s 7ms/step - loss: 0.0114 - accuracy: 0.9960 - val_loss: 0.0656 - val_accuracy: 0.9858\n",
            "Epoch 17/50\n",
            "469/469 [==============================] - 3s 7ms/step - loss: 0.0071 - accuracy: 0.9971 - val_loss: 0.0628 - val_accuracy: 0.9873\n",
            "Epoch 18/50\n",
            "469/469 [==============================] - 4s 8ms/step - loss: 0.0093 - accuracy: 0.9970 - val_loss: 0.0507 - val_accuracy: 0.9887\n",
            "Epoch 19/50\n",
            "469/469 [==============================] - 3s 7ms/step - loss: 0.0070 - accuracy: 0.9976 - val_loss: 0.0659 - val_accuracy: 0.9857\n",
            "Epoch 20/50\n",
            "469/469 [==============================] - 3s 7ms/step - loss: 0.0079 - accuracy: 0.9973 - val_loss: 0.0561 - val_accuracy: 0.9871\n",
            "Epoch 21/50\n",
            "469/469 [==============================] - 3s 7ms/step - loss: 0.0067 - accuracy: 0.9978 - val_loss: 0.0566 - val_accuracy: 0.9906\n",
            "Epoch 22/50\n",
            "469/469 [==============================] - 3s 6ms/step - loss: 0.0082 - accuracy: 0.9974 - val_loss: 0.0646 - val_accuracy: 0.9858\n",
            "Epoch 23/50\n",
            "469/469 [==============================] - 3s 7ms/step - loss: 0.0060 - accuracy: 0.9982 - val_loss: 0.0680 - val_accuracy: 0.9879\n",
            "Epoch 24/50\n",
            "469/469 [==============================] - 3s 7ms/step - loss: 0.0079 - accuracy: 0.9974 - val_loss: 0.0568 - val_accuracy: 0.9864\n",
            "Epoch 25/50\n",
            "469/469 [==============================] - 3s 7ms/step - loss: 0.0042 - accuracy: 0.9985 - val_loss: 0.0978 - val_accuracy: 0.9867\n",
            "Epoch 26/50\n",
            "469/469 [==============================] - 3s 7ms/step - loss: 0.0088 - accuracy: 0.9974 - val_loss: 0.0694 - val_accuracy: 0.9875\n",
            "Epoch 27/50\n",
            "469/469 [==============================] - 3s 7ms/step - loss: 0.0071 - accuracy: 0.9974 - val_loss: 0.0701 - val_accuracy: 0.9873\n",
            "Epoch 28/50\n",
            "469/469 [==============================] - 3s 7ms/step - loss: 0.0041 - accuracy: 0.9986 - val_loss: 0.0600 - val_accuracy: 0.9902\n",
            "Epoch 29/50\n",
            "469/469 [==============================] - 3s 6ms/step - loss: 0.0066 - accuracy: 0.9980 - val_loss: 0.0682 - val_accuracy: 0.9881\n",
            "Epoch 30/50\n",
            "469/469 [==============================] - 3s 7ms/step - loss: 0.0040 - accuracy: 0.9988 - val_loss: 0.0687 - val_accuracy: 0.9885\n",
            "Epoch 31/50\n",
            "469/469 [==============================] - 3s 7ms/step - loss: 0.0056 - accuracy: 0.9982 - val_loss: 0.0738 - val_accuracy: 0.9881\n",
            "Epoch 32/50\n",
            "469/469 [==============================] - 3s 7ms/step - loss: 0.0056 - accuracy: 0.9982 - val_loss: 0.0812 - val_accuracy: 0.9879\n",
            "Epoch 33/50\n",
            "469/469 [==============================] - 3s 7ms/step - loss: 0.0074 - accuracy: 0.9978 - val_loss: 0.0683 - val_accuracy: 0.9883\n",
            "Epoch 34/50\n",
            "469/469 [==============================] - 3s 7ms/step - loss: 0.0038 - accuracy: 0.9989 - val_loss: 0.0630 - val_accuracy: 0.9891\n",
            "Epoch 35/50\n",
            "469/469 [==============================] - 3s 7ms/step - loss: 0.0056 - accuracy: 0.9986 - val_loss: 0.0925 - val_accuracy: 0.9870\n",
            "Epoch 36/50\n",
            "469/469 [==============================] - 3s 7ms/step - loss: 0.0069 - accuracy: 0.9978 - val_loss: 0.0808 - val_accuracy: 0.9874\n",
            "Epoch 37/50\n",
            "469/469 [==============================] - 3s 7ms/step - loss: 0.0060 - accuracy: 0.9981 - val_loss: 0.0794 - val_accuracy: 0.9876\n",
            "Epoch 38/50\n",
            "469/469 [==============================] - 4s 8ms/step - loss: 0.0063 - accuracy: 0.9982 - val_loss: 0.0704 - val_accuracy: 0.9883\n",
            "Epoch 39/50\n",
            "469/469 [==============================] - 3s 7ms/step - loss: 0.0025 - accuracy: 0.9991 - val_loss: 0.0790 - val_accuracy: 0.9887\n",
            "Epoch 40/50\n",
            "469/469 [==============================] - 3s 7ms/step - loss: 0.0048 - accuracy: 0.9985 - val_loss: 0.0851 - val_accuracy: 0.9884\n",
            "Epoch 41/50\n",
            "469/469 [==============================] - 3s 7ms/step - loss: 0.0060 - accuracy: 0.9984 - val_loss: 0.0676 - val_accuracy: 0.9886\n",
            "Epoch 42/50\n",
            "469/469 [==============================] - 3s 7ms/step - loss: 0.0017 - accuracy: 0.9994 - val_loss: 0.0755 - val_accuracy: 0.9890\n",
            "Epoch 43/50\n",
            "469/469 [==============================] - 4s 8ms/step - loss: 0.0078 - accuracy: 0.9980 - val_loss: 0.0886 - val_accuracy: 0.9873\n",
            "Epoch 44/50\n",
            "469/469 [==============================] - 4s 8ms/step - loss: 0.0052 - accuracy: 0.9985 - val_loss: 0.0924 - val_accuracy: 0.9879\n",
            "Epoch 45/50\n",
            "469/469 [==============================] - 4s 8ms/step - loss: 0.0052 - accuracy: 0.9984 - val_loss: 0.0943 - val_accuracy: 0.9870\n",
            "Epoch 46/50\n",
            "469/469 [==============================] - 3s 7ms/step - loss: 0.0066 - accuracy: 0.9981 - val_loss: 0.0994 - val_accuracy: 0.9866\n",
            "Epoch 47/50\n",
            "469/469 [==============================] - 3s 7ms/step - loss: 0.0031 - accuracy: 0.9990 - val_loss: 0.0756 - val_accuracy: 0.9887\n",
            "Epoch 48/50\n",
            "469/469 [==============================] - 3s 7ms/step - loss: 0.0039 - accuracy: 0.9988 - val_loss: 0.0777 - val_accuracy: 0.9891\n",
            "Epoch 49/50\n",
            "469/469 [==============================] - 3s 7ms/step - loss: 0.0043 - accuracy: 0.9987 - val_loss: 0.1016 - val_accuracy: 0.9877\n",
            "Epoch 50/50\n",
            "469/469 [==============================] - 4s 7ms/step - loss: 0.0058 - accuracy: 0.9984 - val_loss: 0.0979 - val_accuracy: 0.9883\n"
          ]
        }
      ]
    },
    {
      "cell_type": "markdown",
      "source": [
        "- Chưa bỏ activation, Convolution layer, Pooling layer\n",
        "\n",
        "Epoch 1/50\n",
        "469/469 [=] - 11s 6ms/step - loss: 0.3632 - accuracy: 0.8843 - val_loss: 0.1082 - val_accuracy: 0.9670\n",
        "\n",
        "Epoch 2/50\n",
        "469/469 [=] - 3s 6ms/step - loss: 0.1002 - accuracy: 0.9692 - val_loss: 0.0797 - val_accuracy: 0.9722\n",
        "\n",
        "Epoch 3/50\n",
        "469/469 [=] - 3s 6ms/step - loss: 0.0763 - accuracy: 0.9763 - val_loss: 0.0597 - val_accuracy: 0.9800\n",
        "\n",
        "Epoch 4/50\n",
        "469/469 [=] - 3s 5ms/step - loss: 0.0608 - accuracy: 0.9813 - val_loss: 0.0490 - val_accuracy: 0.9855\n",
        "\n",
        "Epoch 5/50\n",
        "469/469 [=] - 3s 5ms/step - loss: 0.0546 - accuracy: 0.9829 - val_loss: 0.0619 - val_accuracy: 0.9785\n",
        "\n",
        "- Bỏ hết activation\n",
        "\n",
        "Epoch 1/50\n",
        "469/469 [=] - 3s 6ms/step - loss: 7.3155 - accuracy: 0.1036 - val_loss: 7.0920 - val_accuracy: 0.1010\n",
        "\n",
        "Epoch 2/50\n",
        "469/469 [=] - 3s 5ms/step - loss: 7.1183 - accuracy: 0.1022 - val_loss: 6.8534 - val_accuracy: 0.1010\n",
        "\n",
        "Epoch 3/50\n",
        "469/469 [=] - 2s 5ms/step - loss: 6.7962 - accuracy: 0.1022 - val_loss: 6.8470 - val_accuracy: 0.1010\n",
        "\n",
        "Epoch 4/50\n",
        "469/469 [=] - 3s 5ms/step - loss: 6.7959 - accuracy: 0.1022 - val_loss: 6.8470 - val_accuracy: 0.1010\n",
        "\n",
        "Epoch 5/50\n",
        "469/469 [=] - 2s 5ms/step - loss: 6.7959 - accuracy: 0.1022 - val_loss: 6.8470 - val_accuracy: 0.1010\n",
        "\n",
        "- Bỏ hết Convolution layer, activation (để lại Pooling layer)\n",
        "\n",
        "Epoch 1/50\n",
        "469/469 [=] - 2s 4ms/step - loss: 9.5474 - accuracy: 0.2901 - val_loss: 9.5790 - val_accuracy: 0.3095\n",
        "\n",
        "Epoch 2/50\n",
        "469/469 [=] - 2s 3ms/step - loss: 9.7227 - accuracy: 0.3054 - val_loss: 9.6257 - val_accuracy: 0.3083\n",
        "\n",
        "Epoch 3/50\n",
        "469/469 [=] - 2s 3ms/step - loss: 9.7329 - accuracy: 0.3044 - val_loss: 9.6257 - val_accuracy: 0.3083\n",
        "\n",
        "Epoch 4/50\n",
        "469/469 [=] - 2s 3ms/step - loss: 9.7329 - accuracy: 0.3044 - val_loss: 9.6257 - val_accuracy: 0.3083\n",
        "\n",
        "Epoch 5/50\n",
        "469/469 [=] - 2s 3ms/step - loss: 9.7329 - accuracy: 0.3044 - val_loss: 9.6257 - val_accuracy: 0.3083\n",
        "\n",
        "- Bỏ hết Pooling layer (để lại Convolution layer, activation)\n",
        "\n",
        "Epoch 1/50\n",
        "469/469 [=] - 4s 7ms/step - loss: 0.1746 - accuracy: 0.9468 - val_loss: 0.0742 - val_accuracy: 0.9759\n",
        "\n",
        "Epoch 2/50\n",
        "469/469 [=] - 3s 7ms/step - loss: 0.0591 - accuracy: 0.9815 - val_loss: 0.0497 - val_accuracy: 0.9848\n",
        "\n",
        "Epoch 3/50\n",
        "469/469 [=] - 3s 6ms/step - loss: 0.0431 - accuracy: 0.9868 - val_loss: 0.0414 - val_accuracy: 0.9862\n",
        "\n",
        "Epoch 4/50\n",
        "469/469 [=] - 3s 7ms/step - loss: 0.0334 - accuracy: 0.9891 - val_loss: 0.0479 - val_accuracy: 0.9843\n",
        "\n",
        "Epoch 5/50\n",
        "469/469 [=] - 3s 7ms/step - loss: 0.0287 - accuracy: 0.9907 - val_loss: 0.0385 - val_accuracy: 0.9873\n",
        "\n",
        "\n",
        "- Bỏ hết activation, Convolution layer, Pooling layer\n",
        "\n",
        "Epoch 1/50\n",
        "469/469 [=] - 2s 4ms/step - loss: 10.6767 - accuracy: 0.1134 - val_loss: 10.4791 - val_accuracy: 0.1131\n",
        "\n",
        "Epoch 2/50\n",
        "469/469 [=] - 2s 4ms/step - loss: 10.6350 - accuracy: 0.1153 - val_loss: 10.6316 - val_accuracy: 0.1160\n",
        "\n",
        "Epoch 3/50\n",
        "469/469 [=] - 2s 3ms/step - loss: 10.4364 - accuracy: 0.1119 - val_loss: 10.6880 - val_accuracy: 0.1136\n",
        "\n",
        "Epoch 4/50\n",
        "469/469 [=] - 2s 3ms/step - loss: 10.6911 - accuracy: 0.1098 - val_loss: 10.7605 - val_accuracy: 0.1136\n",
        "\n",
        "Epoch 5/50\n",
        "469/469 [=] - 2s 3ms/step - loss: 10.7422 - accuracy: 0.1098 - val_loss: 10.7605 - val_accuracy: 0.1136"
      ],
      "metadata": {
        "id": "r-Gt5T8_BZqb"
      }
    }
  ]
}